{
 "cells": [
  {
   "cell_type": "code",
   "execution_count": 2,
   "metadata": {
    "colab": {},
    "colab_type": "code",
    "id": "BJ8U3pqV5bpC"
   },
   "outputs": [],
   "source": [
    "import numpy as np\n",
    "import pandas as pd\n",
    "import matplotlib.pyplot as plt\n",
    "%matplotlib inline\n",
    "from datetime import datetime"
   ]
  },
  {
   "cell_type": "code",
   "execution_count": 3,
   "metadata": {
    "colab": {
     "base_uri": "https://localhost:8080/",
     "height": 51
    },
    "colab_type": "code",
    "id": "YqhdQAk85bpJ",
    "outputId": "a2c5dda4-c6e5-4d1a-cd82-c67712b1311b"
   },
   "outputs": [
    {
     "name": "stderr",
     "output_type": "stream",
     "text": [
      "C:\\Users\\Lihen\\.conda\\envs\\tensorflow\\lib\\site-packages\\IPython\\core\\interactiveshell.py:3058: DtypeWarning: Columns (6) have mixed types. Specify dtype option on import or set low_memory=False.\n",
      "  interactivity=interactivity, compiler=compiler, result=result)\n"
     ]
    }
   ],
   "source": [
    "#Read training data\n",
    "df_train = pd.read_csv('./train_milk_nozero.csv')"
   ]
  },
  {
   "cell_type": "code",
   "execution_count": 4,
   "metadata": {
    "colab": {
     "base_uri": "https://localhost:8080/",
     "height": 34
    },
    "colab_type": "code",
    "id": "DpLXK8OAS4ce",
    "outputId": "2aea7413-9a57-45c3-a6c5-7b1fba1c2835"
   },
   "outputs": [
    {
     "data": {
      "text/plain": [
       "(6692, 21)"
      ]
     },
     "execution_count": 4,
     "metadata": {},
     "output_type": "execute_result"
    }
   ],
   "source": [
    "df_test = pd.read_csv('./test_milk.csv')\n",
    "df_test.shape"
   ]
  },
  {
   "cell_type": "code",
   "execution_count": 5,
   "metadata": {
    "colab": {},
    "colab_type": "code",
    "id": "GTQyNgnQ5bpM"
   },
   "outputs": [],
   "source": [
    "#Check weekday & workday\n",
    "#holidays連假的平常日\n",
    "#workdays連假的補班日\n",
    "#momno= {''}\n",
    "#makeupworkdays = {'2016-06-04', '2016-09-10', '2017-02-18'}"
   ]
  },
  {
   "cell_type": "code",
   "execution_count": 6,
   "metadata": {
    "colab": {
     "base_uri": "https://localhost:8080/",
     "height": 34
    },
    "colab_type": "code",
    "id": "rn7m95yl5bpQ",
    "outputId": "ea669f5d-d240-4478-f599-9897fc78f761"
   },
   "outputs": [
    {
     "data": {
      "text/plain": [
       "33185"
      ]
     },
     "execution_count": 6,
     "metadata": {},
     "output_type": "execute_result"
    }
   ],
   "source": [
    "len(df_train)"
   ]
  },
  {
   "cell_type": "code",
   "execution_count": 7,
   "metadata": {
    "colab": {
     "base_uri": "https://localhost:8080/",
     "height": 306
    },
    "colab_type": "code",
    "id": "-l-wp3df5bpV",
    "outputId": "20997669-7b06-458b-eb80-4487918c947f"
   },
   "outputs": [
    {
     "data": {
      "text/html": [
       "<div>\n",
       "<style scoped>\n",
       "    .dataframe tbody tr th:only-of-type {\n",
       "        vertical-align: middle;\n",
       "    }\n",
       "\n",
       "    .dataframe tbody tr th {\n",
       "        vertical-align: top;\n",
       "    }\n",
       "\n",
       "    .dataframe thead th {\n",
       "        text-align: right;\n",
       "    }\n",
       "</style>\n",
       "<table border=\"1\" class=\"dataframe\">\n",
       "  <thead>\n",
       "    <tr style=\"text-align: right;\">\n",
       "      <th></th>\n",
       "      <th>ID</th>\n",
       "      <th>資料年度</th>\n",
       "      <th>資料月份</th>\n",
       "      <th>酪農場代號</th>\n",
       "      <th>乳牛編號</th>\n",
       "      <th>父親牛精液編號</th>\n",
       "      <th>母親乳牛編號</th>\n",
       "      <th>出生日期</th>\n",
       "      <th>胎次</th>\n",
       "      <th>泌乳天數</th>\n",
       "      <th>...</th>\n",
       "      <th>最近分娩日期</th>\n",
       "      <th>採樣日期</th>\n",
       "      <th>月齡</th>\n",
       "      <th>檢測日期</th>\n",
       "      <th>最後配種日期</th>\n",
       "      <th>最後配種精液</th>\n",
       "      <th>配種次數</th>\n",
       "      <th>前次分娩日期</th>\n",
       "      <th>第一次配種日期</th>\n",
       "      <th>第一次配種精液</th>\n",
       "    </tr>\n",
       "  </thead>\n",
       "  <tbody>\n",
       "    <tr>\n",
       "      <th>0</th>\n",
       "      <td>1</td>\n",
       "      <td>2013/3/1</td>\n",
       "      <td>3</td>\n",
       "      <td>A</td>\n",
       "      <td>52612</td>\n",
       "      <td>507H7173</td>\n",
       "      <td>96040545</td>\n",
       "      <td>2011/1/1 00:00</td>\n",
       "      <td>1</td>\n",
       "      <td>78</td>\n",
       "      <td>...</td>\n",
       "      <td>2013/1/1</td>\n",
       "      <td>2013/3/20</td>\n",
       "      <td>26</td>\n",
       "      <td>2013/3/21 00:00</td>\n",
       "      <td>2015/5/5 00:00</td>\n",
       "      <td>507H11621</td>\n",
       "      <td>1</td>\n",
       "      <td>NaN</td>\n",
       "      <td>2013/3/5 00:00</td>\n",
       "      <td>501H8784</td>\n",
       "    </tr>\n",
       "    <tr>\n",
       "      <th>1</th>\n",
       "      <td>2</td>\n",
       "      <td>2013/4/1</td>\n",
       "      <td>4</td>\n",
       "      <td>A</td>\n",
       "      <td>52612</td>\n",
       "      <td>507H7173</td>\n",
       "      <td>96040545</td>\n",
       "      <td>2011/1/1 00:00</td>\n",
       "      <td>1</td>\n",
       "      <td>107</td>\n",
       "      <td>...</td>\n",
       "      <td>2013/1/1</td>\n",
       "      <td>2013/4/18</td>\n",
       "      <td>27</td>\n",
       "      <td>2013/4/19 00:00</td>\n",
       "      <td>2015/5/5 00:00</td>\n",
       "      <td>507H11621</td>\n",
       "      <td>1</td>\n",
       "      <td>NaN</td>\n",
       "      <td>2013/3/5 00:00</td>\n",
       "      <td>501H8784</td>\n",
       "    </tr>\n",
       "    <tr>\n",
       "      <th>2</th>\n",
       "      <td>3</td>\n",
       "      <td>2013/5/1</td>\n",
       "      <td>5</td>\n",
       "      <td>A</td>\n",
       "      <td>52612</td>\n",
       "      <td>507H7173</td>\n",
       "      <td>96040545</td>\n",
       "      <td>2011/1/1 00:00</td>\n",
       "      <td>1</td>\n",
       "      <td>140</td>\n",
       "      <td>...</td>\n",
       "      <td>2013/1/1</td>\n",
       "      <td>2013/5/21</td>\n",
       "      <td>28</td>\n",
       "      <td>2013/5/22 00:00</td>\n",
       "      <td>2015/5/5 00:00</td>\n",
       "      <td>507H11621</td>\n",
       "      <td>2</td>\n",
       "      <td>NaN</td>\n",
       "      <td>2013/3/5 00:00</td>\n",
       "      <td>501H8784</td>\n",
       "    </tr>\n",
       "    <tr>\n",
       "      <th>3</th>\n",
       "      <td>4</td>\n",
       "      <td>2013/6/1</td>\n",
       "      <td>6</td>\n",
       "      <td>A</td>\n",
       "      <td>52612</td>\n",
       "      <td>507H7173</td>\n",
       "      <td>96040545</td>\n",
       "      <td>2011/1/1 00:00</td>\n",
       "      <td>1</td>\n",
       "      <td>175</td>\n",
       "      <td>...</td>\n",
       "      <td>2013/1/1</td>\n",
       "      <td>2013/6/25</td>\n",
       "      <td>29</td>\n",
       "      <td>2013/6/26 00:00</td>\n",
       "      <td>2015/5/5 00:00</td>\n",
       "      <td>507H11621</td>\n",
       "      <td>2</td>\n",
       "      <td>NaN</td>\n",
       "      <td>2013/3/5 00:00</td>\n",
       "      <td>501H8784</td>\n",
       "    </tr>\n",
       "    <tr>\n",
       "      <th>4</th>\n",
       "      <td>5</td>\n",
       "      <td>2013/7/1</td>\n",
       "      <td>7</td>\n",
       "      <td>A</td>\n",
       "      <td>52612</td>\n",
       "      <td>507H7173</td>\n",
       "      <td>96040545</td>\n",
       "      <td>2011/1/1 00:00</td>\n",
       "      <td>1</td>\n",
       "      <td>210</td>\n",
       "      <td>...</td>\n",
       "      <td>2013/1/1</td>\n",
       "      <td>2013/7/30</td>\n",
       "      <td>30</td>\n",
       "      <td>2013/7/31 00:00</td>\n",
       "      <td>2015/5/5 00:00</td>\n",
       "      <td>507H11621</td>\n",
       "      <td>2</td>\n",
       "      <td>NaN</td>\n",
       "      <td>2013/3/5 00:00</td>\n",
       "      <td>501H8784</td>\n",
       "    </tr>\n",
       "  </tbody>\n",
       "</table>\n",
       "<p>5 rows × 21 columns</p>\n",
       "</div>"
      ],
      "text/plain": [
       "   ID      資料年度  資料月份 酪農場代號   乳牛編號   父親牛精液編號    母親乳牛編號            出生日期  胎次  \\\n",
       "0   1  2013/3/1     3     A  52612  507H7173  96040545  2011/1/1 00:00   1   \n",
       "1   2  2013/4/1     4     A  52612  507H7173  96040545  2011/1/1 00:00   1   \n",
       "2   3  2013/5/1     5     A  52612  507H7173  96040545  2011/1/1 00:00   1   \n",
       "3   4  2013/6/1     6     A  52612  507H7173  96040545  2011/1/1 00:00   1   \n",
       "4   5  2013/7/1     7     A  52612  507H7173  96040545  2011/1/1 00:00   1   \n",
       "\n",
       "   泌乳天數  ...    最近分娩日期       採樣日期  月齡             檢測日期          最後配種日期  \\\n",
       "0    78  ...  2013/1/1  2013/3/20  26  2013/3/21 00:00  2015/5/5 00:00   \n",
       "1   107  ...  2013/1/1  2013/4/18  27  2013/4/19 00:00  2015/5/5 00:00   \n",
       "2   140  ...  2013/1/1  2013/5/21  28  2013/5/22 00:00  2015/5/5 00:00   \n",
       "3   175  ...  2013/1/1  2013/6/25  29  2013/6/26 00:00  2015/5/5 00:00   \n",
       "4   210  ...  2013/1/1  2013/7/30  30  2013/7/31 00:00  2015/5/5 00:00   \n",
       "\n",
       "      最後配種精液 配種次數  前次分娩日期         第一次配種日期   第一次配種精液  \n",
       "0  507H11621    1     NaN  2013/3/5 00:00  501H8784  \n",
       "1  507H11621    1     NaN  2013/3/5 00:00  501H8784  \n",
       "2  507H11621    2     NaN  2013/3/5 00:00  501H8784  \n",
       "3  507H11621    2     NaN  2013/3/5 00:00  501H8784  \n",
       "4  507H11621    2     NaN  2013/3/5 00:00  501H8784  \n",
       "\n",
       "[5 rows x 21 columns]"
      ]
     },
     "execution_count": 7,
     "metadata": {},
     "output_type": "execute_result"
    }
   ],
   "source": [
    "df_train.head()"
   ]
  },
  {
   "cell_type": "code",
   "execution_count": 8,
   "metadata": {
    "colab": {},
    "colab_type": "code",
    "id": "iTr-Q6Ow5bpZ"
   },
   "outputs": [],
   "source": [
    "#Declare weekday & workday\n",
    "summer = np.ones((len(df_train),), dtype=int)\n",
    "winter = np.ones((len(df_train),), dtype=int)\n",
    "#dfoursix = np.ones((len(df_train),), dtype=int)"
   ]
  },
  {
   "cell_type": "code",
   "execution_count": 9,
   "metadata": {
    "colab": {},
    "colab_type": "code",
    "id": "Xxxd6fHz5bpb"
   },
   "outputs": [],
   "source": [
    "#Compute weekday & workday\n",
    "#weekday()\n",
    "#0 == Monday, #1 == Tuesday, #2 == Wednesday,  #3 == Thursday,  #4 == Friday,  #5 == Saturday, #6 == Sunday\n",
    "\"\"\"\n",
    "for index, row in df_train.iterrows():\n",
    "  dd1=datetime.strptime(row['12'], \"%Y/%m/%d\")\n",
    "  dd2=datetime.strptime(row['13'], \"%Y/%m/%d\")\n",
    "  ddcount = str(dd2-dd1)\n",
    "  ddcount = re.findall(r\"\\d+\\.?\\d*\",ddcount)\n",
    "  ddcount = int(ddcount[0])\n",
    "\"\"\"\n",
    "for index, row in df_train.iterrows():\n",
    "    if row['資料月份']>=6 and row['資料月份'] <= 9:\n",
    "        summer[index] = 0\n",
    "    elif row['資料月份']>=11 and row['資料月份'] <= 12 or row['資料月份'] == 1:\n",
    "        winter[index] = 0\n",
    "  #elif row['胎次']==1:\n",
    "    #if row['泌乳天數']==46:\n",
    "      #dfoursix[index] = 0\n",
    "#for index, row in df_train.iterrows():\n",
    "  #if row['胎次']==1:\n",
    "    #if row['泌乳天數']==46:\n",
    "      #dfoursix[index] = 0"
   ]
  },
  {
   "cell_type": "code",
   "execution_count": 10,
   "metadata": {
    "colab": {},
    "colab_type": "code",
    "id": "BwwK2sU85bpd"
   },
   "outputs": [],
   "source": [
    "#Build a new dataframe from the training data\"資料月份\",\"酪農場代號\",\"最後配種精液\",\n",
    "RawX = pd.DataFrame(df_train[[\"酪農場代號\",\"乳牛編號\",\"胎次\",\"泌乳天數\",\"月齡\",\"配種次數\"]])\n",
    "RawX['summer'] = summer\n",
    "RawX['winter'] = winter\n",
    "#RawX['d46'] = dfoursix"
   ]
  },
  {
   "cell_type": "code",
   "execution_count": 11,
   "metadata": {
    "colab": {
     "base_uri": "https://localhost:8080/",
     "height": 419
    },
    "colab_type": "code",
    "id": "eTgF297v5bpf",
    "outputId": "fc6e7e99-0083-483e-8365-d14595703739"
   },
   "outputs": [
    {
     "data": {
      "text/html": [
       "<div>\n",
       "<style scoped>\n",
       "    .dataframe tbody tr th:only-of-type {\n",
       "        vertical-align: middle;\n",
       "    }\n",
       "\n",
       "    .dataframe tbody tr th {\n",
       "        vertical-align: top;\n",
       "    }\n",
       "\n",
       "    .dataframe thead th {\n",
       "        text-align: right;\n",
       "    }\n",
       "</style>\n",
       "<table border=\"1\" class=\"dataframe\">\n",
       "  <thead>\n",
       "    <tr style=\"text-align: right;\">\n",
       "      <th></th>\n",
       "      <th>酪農場代號</th>\n",
       "      <th>乳牛編號</th>\n",
       "      <th>胎次</th>\n",
       "      <th>泌乳天數</th>\n",
       "      <th>月齡</th>\n",
       "      <th>配種次數</th>\n",
       "      <th>summer</th>\n",
       "      <th>winter</th>\n",
       "    </tr>\n",
       "  </thead>\n",
       "  <tbody>\n",
       "    <tr>\n",
       "      <th>0</th>\n",
       "      <td>A</td>\n",
       "      <td>52612</td>\n",
       "      <td>1</td>\n",
       "      <td>78</td>\n",
       "      <td>26</td>\n",
       "      <td>1</td>\n",
       "      <td>1</td>\n",
       "      <td>1</td>\n",
       "    </tr>\n",
       "    <tr>\n",
       "      <th>1</th>\n",
       "      <td>A</td>\n",
       "      <td>52612</td>\n",
       "      <td>1</td>\n",
       "      <td>107</td>\n",
       "      <td>27</td>\n",
       "      <td>1</td>\n",
       "      <td>1</td>\n",
       "      <td>1</td>\n",
       "    </tr>\n",
       "    <tr>\n",
       "      <th>2</th>\n",
       "      <td>A</td>\n",
       "      <td>52612</td>\n",
       "      <td>1</td>\n",
       "      <td>140</td>\n",
       "      <td>28</td>\n",
       "      <td>2</td>\n",
       "      <td>1</td>\n",
       "      <td>1</td>\n",
       "    </tr>\n",
       "    <tr>\n",
       "      <th>3</th>\n",
       "      <td>A</td>\n",
       "      <td>52612</td>\n",
       "      <td>1</td>\n",
       "      <td>175</td>\n",
       "      <td>29</td>\n",
       "      <td>2</td>\n",
       "      <td>0</td>\n",
       "      <td>1</td>\n",
       "    </tr>\n",
       "    <tr>\n",
       "      <th>4</th>\n",
       "      <td>A</td>\n",
       "      <td>52612</td>\n",
       "      <td>1</td>\n",
       "      <td>210</td>\n",
       "      <td>30</td>\n",
       "      <td>2</td>\n",
       "      <td>0</td>\n",
       "      <td>1</td>\n",
       "    </tr>\n",
       "    <tr>\n",
       "      <th>...</th>\n",
       "      <td>...</td>\n",
       "      <td>...</td>\n",
       "      <td>...</td>\n",
       "      <td>...</td>\n",
       "      <td>...</td>\n",
       "      <td>...</td>\n",
       "      <td>...</td>\n",
       "      <td>...</td>\n",
       "    </tr>\n",
       "    <tr>\n",
       "      <th>33180</th>\n",
       "      <td>C</td>\n",
       "      <td>93184912</td>\n",
       "      <td>8</td>\n",
       "      <td>12</td>\n",
       "      <td>130</td>\n",
       "      <td>0</td>\n",
       "      <td>1</td>\n",
       "      <td>0</td>\n",
       "    </tr>\n",
       "    <tr>\n",
       "      <th>33181</th>\n",
       "      <td>C</td>\n",
       "      <td>93184912</td>\n",
       "      <td>8</td>\n",
       "      <td>137</td>\n",
       "      <td>134</td>\n",
       "      <td>0</td>\n",
       "      <td>1</td>\n",
       "      <td>1</td>\n",
       "    </tr>\n",
       "    <tr>\n",
       "      <th>33182</th>\n",
       "      <td>C</td>\n",
       "      <td>93184912</td>\n",
       "      <td>8</td>\n",
       "      <td>168</td>\n",
       "      <td>135</td>\n",
       "      <td>0</td>\n",
       "      <td>0</td>\n",
       "      <td>1</td>\n",
       "    </tr>\n",
       "    <tr>\n",
       "      <th>33183</th>\n",
       "      <td>C</td>\n",
       "      <td>93184912</td>\n",
       "      <td>8</td>\n",
       "      <td>197</td>\n",
       "      <td>136</td>\n",
       "      <td>0</td>\n",
       "      <td>0</td>\n",
       "      <td>1</td>\n",
       "    </tr>\n",
       "    <tr>\n",
       "      <th>33184</th>\n",
       "      <td>C</td>\n",
       "      <td>93184912</td>\n",
       "      <td>8</td>\n",
       "      <td>229</td>\n",
       "      <td>137</td>\n",
       "      <td>0</td>\n",
       "      <td>0</td>\n",
       "      <td>1</td>\n",
       "    </tr>\n",
       "  </tbody>\n",
       "</table>\n",
       "<p>33185 rows × 8 columns</p>\n",
       "</div>"
      ],
      "text/plain": [
       "      酪農場代號      乳牛編號  胎次  泌乳天數   月齡  配種次數  summer  winter\n",
       "0         A     52612   1    78   26     1       1       1\n",
       "1         A     52612   1   107   27     1       1       1\n",
       "2         A     52612   1   140   28     2       1       1\n",
       "3         A     52612   1   175   29     2       0       1\n",
       "4         A     52612   1   210   30     2       0       1\n",
       "...     ...       ...  ..   ...  ...   ...     ...     ...\n",
       "33180     C  93184912   8    12  130     0       1       0\n",
       "33181     C  93184912   8   137  134     0       1       1\n",
       "33182     C  93184912   8   168  135     0       0       1\n",
       "33183     C  93184912   8   197  136     0       0       1\n",
       "33184     C  93184912   8   229  137     0       0       1\n",
       "\n",
       "[33185 rows x 8 columns]"
      ]
     },
     "execution_count": 11,
     "metadata": {},
     "output_type": "execute_result"
    }
   ],
   "source": [
    "#See the raw input data\n",
    "RawX\n",
    "#RawX['最後配種精液'] = RawX['最後配種精液'].fillna(0)\n",
    "#RawX\n"
   ]
  },
  {
   "cell_type": "code",
   "execution_count": 12,
   "metadata": {
    "colab": {},
    "colab_type": "code",
    "id": "keeWrdaLTA5V"
   },
   "outputs": [],
   "source": [
    "#Declare weekday & workday\"資料月份\",\"酪農場代號\",\n",
    "summer1 = np.ones((len(df_test),), dtype=int)\n",
    "winter1 = np.ones((len(df_test),), dtype=int)\n",
    "#dfoursix1 = np.ones((len(df_test),), dtype=int)"
   ]
  },
  {
   "cell_type": "code",
   "execution_count": 14,
   "metadata": {
    "colab": {},
    "colab_type": "code",
    "id": "3SGfYBNSTAz1"
   },
   "outputs": [],
   "source": [
    "#for index, row in df_test.iterrows():\n",
    "\"\"\"\n",
    "  dd1=datetime.strptime(row['12'], \"%Y/%m/%d\")\n",
    "  dd2=datetime.strptime(row['13'], \"%Y/%m/%d\")\n",
    "  ddcount = str(dd2-dd1)\n",
    "  ddcount = re.findall(r\"\\d+\\.?\\d*\",ddcount)\n",
    "  ddcount = int(ddcount[0])\n",
    "\"\"\"\n",
    "for index, row in df_test.iterrows():\n",
    "    if row['資料月份']>=6 and row['資料月份'] <= 9:\n",
    "        summer1[index] = 0\n",
    "    elif row['資料月份']>=11 and row['資料月份'] <= 12 or row['資料月份'] == 1:\n",
    "        winter1[index] = 0\n",
    "#for index, row in df_test.iterrows():\n",
    "    #if row['胎次']==1:\n",
    "      #if row['泌乳天數']==46:\n",
    "        #dfoursix1[index] = 0"
   ]
  },
  {
   "cell_type": "code",
   "execution_count": 15,
   "metadata": {
    "colab": {
     "base_uri": "https://localhost:8080/",
     "height": 419
    },
    "colab_type": "code",
    "id": "w0hk0K9KTAX3",
    "outputId": "7d876591-335f-40cf-c790-a4b3f862f63a"
   },
   "outputs": [
    {
     "data": {
      "text/html": [
       "<div>\n",
       "<style scoped>\n",
       "    .dataframe tbody tr th:only-of-type {\n",
       "        vertical-align: middle;\n",
       "    }\n",
       "\n",
       "    .dataframe tbody tr th {\n",
       "        vertical-align: top;\n",
       "    }\n",
       "\n",
       "    .dataframe thead th {\n",
       "        text-align: right;\n",
       "    }\n",
       "</style>\n",
       "<table border=\"1\" class=\"dataframe\">\n",
       "  <thead>\n",
       "    <tr style=\"text-align: right;\">\n",
       "      <th></th>\n",
       "      <th>酪農場代號</th>\n",
       "      <th>乳牛編號</th>\n",
       "      <th>胎次</th>\n",
       "      <th>泌乳天數</th>\n",
       "      <th>月齡</th>\n",
       "      <th>配種次數</th>\n",
       "      <th>summer1</th>\n",
       "      <th>winter1</th>\n",
       "    </tr>\n",
       "  </thead>\n",
       "  <tbody>\n",
       "    <tr>\n",
       "      <th>0</th>\n",
       "      <td>A</td>\n",
       "      <td>52631</td>\n",
       "      <td>4</td>\n",
       "      <td>435</td>\n",
       "      <td>94</td>\n",
       "      <td>6</td>\n",
       "      <td>1</td>\n",
       "      <td>0</td>\n",
       "    </tr>\n",
       "    <tr>\n",
       "      <th>1</th>\n",
       "      <td>A</td>\n",
       "      <td>52640</td>\n",
       "      <td>4</td>\n",
       "      <td>13</td>\n",
       "      <td>94</td>\n",
       "      <td>0</td>\n",
       "      <td>1</td>\n",
       "      <td>1</td>\n",
       "    </tr>\n",
       "    <tr>\n",
       "      <th>2</th>\n",
       "      <td>A</td>\n",
       "      <td>52640</td>\n",
       "      <td>4</td>\n",
       "      <td>35</td>\n",
       "      <td>95</td>\n",
       "      <td>1</td>\n",
       "      <td>1</td>\n",
       "      <td>1</td>\n",
       "    </tr>\n",
       "    <tr>\n",
       "      <th>3</th>\n",
       "      <td>A</td>\n",
       "      <td>52640</td>\n",
       "      <td>4</td>\n",
       "      <td>70</td>\n",
       "      <td>96</td>\n",
       "      <td>1</td>\n",
       "      <td>1</td>\n",
       "      <td>1</td>\n",
       "    </tr>\n",
       "    <tr>\n",
       "      <th>4</th>\n",
       "      <td>A</td>\n",
       "      <td>52640</td>\n",
       "      <td>4</td>\n",
       "      <td>98</td>\n",
       "      <td>97</td>\n",
       "      <td>1</td>\n",
       "      <td>1</td>\n",
       "      <td>1</td>\n",
       "    </tr>\n",
       "    <tr>\n",
       "      <th>...</th>\n",
       "      <td>...</td>\n",
       "      <td>...</td>\n",
       "      <td>...</td>\n",
       "      <td>...</td>\n",
       "      <td>...</td>\n",
       "      <td>...</td>\n",
       "      <td>...</td>\n",
       "      <td>...</td>\n",
       "    </tr>\n",
       "    <tr>\n",
       "      <th>6687</th>\n",
       "      <td>C</td>\n",
       "      <td>99183193</td>\n",
       "      <td>8</td>\n",
       "      <td>44</td>\n",
       "      <td>113</td>\n",
       "      <td>0</td>\n",
       "      <td>1</td>\n",
       "      <td>1</td>\n",
       "    </tr>\n",
       "    <tr>\n",
       "      <th>6688</th>\n",
       "      <td>C</td>\n",
       "      <td>99183209</td>\n",
       "      <td>6</td>\n",
       "      <td>323</td>\n",
       "      <td>111</td>\n",
       "      <td>4</td>\n",
       "      <td>1</td>\n",
       "      <td>1</td>\n",
       "    </tr>\n",
       "    <tr>\n",
       "      <th>6689</th>\n",
       "      <td>A</td>\n",
       "      <td>98051981</td>\n",
       "      <td>4</td>\n",
       "      <td>189</td>\n",
       "      <td>122</td>\n",
       "      <td>1</td>\n",
       "      <td>1</td>\n",
       "      <td>0</td>\n",
       "    </tr>\n",
       "    <tr>\n",
       "      <th>6690</th>\n",
       "      <td>A</td>\n",
       "      <td>97051427</td>\n",
       "      <td>6</td>\n",
       "      <td>71</td>\n",
       "      <td>138</td>\n",
       "      <td>0</td>\n",
       "      <td>1</td>\n",
       "      <td>0</td>\n",
       "    </tr>\n",
       "    <tr>\n",
       "      <th>6691</th>\n",
       "      <td>A</td>\n",
       "      <td>98051971</td>\n",
       "      <td>8</td>\n",
       "      <td>6</td>\n",
       "      <td>126</td>\n",
       "      <td>0</td>\n",
       "      <td>1</td>\n",
       "      <td>0</td>\n",
       "    </tr>\n",
       "  </tbody>\n",
       "</table>\n",
       "<p>6692 rows × 8 columns</p>\n",
       "</div>"
      ],
      "text/plain": [
       "     酪農場代號      乳牛編號  胎次  泌乳天數   月齡  配種次數  summer1  winter1\n",
       "0        A     52631   4   435   94     6        1        0\n",
       "1        A     52640   4    13   94     0        1        1\n",
       "2        A     52640   4    35   95     1        1        1\n",
       "3        A     52640   4    70   96     1        1        1\n",
       "4        A     52640   4    98   97     1        1        1\n",
       "...    ...       ...  ..   ...  ...   ...      ...      ...\n",
       "6687     C  99183193   8    44  113     0        1        1\n",
       "6688     C  99183209   6   323  111     4        1        1\n",
       "6689     A  98051981   4   189  122     1        1        0\n",
       "6690     A  97051427   6    71  138     0        1        0\n",
       "6691     A  98051971   8     6  126     0        1        0\n",
       "\n",
       "[6692 rows x 8 columns]"
      ]
     },
     "execution_count": 15,
     "metadata": {},
     "output_type": "execute_result"
    }
   ],
   "source": [
    "Test = pd.DataFrame(df_test[[\"酪農場代號\",\"乳牛編號\",\"胎次\",\"泌乳天數\",\"月齡\",\"配種次數\"]])\n",
    "Test['summer1'] = summer1\n",
    "Test['winter1'] = winter1\n",
    "#Test['d461'] = dfoursix1\n",
    "Test"
   ]
  },
  {
   "cell_type": "code",
   "execution_count": 16,
   "metadata": {
    "colab": {},
    "colab_type": "code",
    "id": "ke4kcsSmWfUJ"
   },
   "outputs": [],
   "source": [
    "Test1 = pd.DataFrame\n",
    "Test1 = Test\n",
    "Test1 = Test1.rename(columns={'summer1':'summer'})\n",
    "Test1 = Test1.rename(columns={'winter1':'winter'})\n",
    "#Test1 = Test1.rename(columns={'d461':'d46'})"
   ]
  },
  {
   "cell_type": "code",
   "execution_count": 17,
   "metadata": {
    "colab": {
     "base_uri": "https://localhost:8080/",
     "height": 419
    },
    "colab_type": "code",
    "id": "lpmvPuE2TQ-9",
    "outputId": "7beb4f48-ae12-48c1-d80c-b3dead13748a"
   },
   "outputs": [
    {
     "data": {
      "text/html": [
       "<div>\n",
       "<style scoped>\n",
       "    .dataframe tbody tr th:only-of-type {\n",
       "        vertical-align: middle;\n",
       "    }\n",
       "\n",
       "    .dataframe tbody tr th {\n",
       "        vertical-align: top;\n",
       "    }\n",
       "\n",
       "    .dataframe thead th {\n",
       "        text-align: right;\n",
       "    }\n",
       "</style>\n",
       "<table border=\"1\" class=\"dataframe\">\n",
       "  <thead>\n",
       "    <tr style=\"text-align: right;\">\n",
       "      <th></th>\n",
       "      <th>酪農場代號</th>\n",
       "      <th>乳牛編號</th>\n",
       "      <th>胎次</th>\n",
       "      <th>泌乳天數</th>\n",
       "      <th>月齡</th>\n",
       "      <th>配種次數</th>\n",
       "      <th>summer</th>\n",
       "      <th>winter</th>\n",
       "    </tr>\n",
       "  </thead>\n",
       "  <tbody>\n",
       "    <tr>\n",
       "      <th>0</th>\n",
       "      <td>A</td>\n",
       "      <td>52612</td>\n",
       "      <td>1</td>\n",
       "      <td>78</td>\n",
       "      <td>26</td>\n",
       "      <td>1</td>\n",
       "      <td>1</td>\n",
       "      <td>1</td>\n",
       "    </tr>\n",
       "    <tr>\n",
       "      <th>1</th>\n",
       "      <td>A</td>\n",
       "      <td>52612</td>\n",
       "      <td>1</td>\n",
       "      <td>107</td>\n",
       "      <td>27</td>\n",
       "      <td>1</td>\n",
       "      <td>1</td>\n",
       "      <td>1</td>\n",
       "    </tr>\n",
       "    <tr>\n",
       "      <th>2</th>\n",
       "      <td>A</td>\n",
       "      <td>52612</td>\n",
       "      <td>1</td>\n",
       "      <td>140</td>\n",
       "      <td>28</td>\n",
       "      <td>2</td>\n",
       "      <td>1</td>\n",
       "      <td>1</td>\n",
       "    </tr>\n",
       "    <tr>\n",
       "      <th>3</th>\n",
       "      <td>A</td>\n",
       "      <td>52612</td>\n",
       "      <td>1</td>\n",
       "      <td>175</td>\n",
       "      <td>29</td>\n",
       "      <td>2</td>\n",
       "      <td>0</td>\n",
       "      <td>1</td>\n",
       "    </tr>\n",
       "    <tr>\n",
       "      <th>4</th>\n",
       "      <td>A</td>\n",
       "      <td>52612</td>\n",
       "      <td>1</td>\n",
       "      <td>210</td>\n",
       "      <td>30</td>\n",
       "      <td>2</td>\n",
       "      <td>0</td>\n",
       "      <td>1</td>\n",
       "    </tr>\n",
       "    <tr>\n",
       "      <th>...</th>\n",
       "      <td>...</td>\n",
       "      <td>...</td>\n",
       "      <td>...</td>\n",
       "      <td>...</td>\n",
       "      <td>...</td>\n",
       "      <td>...</td>\n",
       "      <td>...</td>\n",
       "      <td>...</td>\n",
       "    </tr>\n",
       "    <tr>\n",
       "      <th>6687</th>\n",
       "      <td>C</td>\n",
       "      <td>99183193</td>\n",
       "      <td>8</td>\n",
       "      <td>44</td>\n",
       "      <td>113</td>\n",
       "      <td>0</td>\n",
       "      <td>1</td>\n",
       "      <td>1</td>\n",
       "    </tr>\n",
       "    <tr>\n",
       "      <th>6688</th>\n",
       "      <td>C</td>\n",
       "      <td>99183209</td>\n",
       "      <td>6</td>\n",
       "      <td>323</td>\n",
       "      <td>111</td>\n",
       "      <td>4</td>\n",
       "      <td>1</td>\n",
       "      <td>1</td>\n",
       "    </tr>\n",
       "    <tr>\n",
       "      <th>6689</th>\n",
       "      <td>A</td>\n",
       "      <td>98051981</td>\n",
       "      <td>4</td>\n",
       "      <td>189</td>\n",
       "      <td>122</td>\n",
       "      <td>1</td>\n",
       "      <td>1</td>\n",
       "      <td>0</td>\n",
       "    </tr>\n",
       "    <tr>\n",
       "      <th>6690</th>\n",
       "      <td>A</td>\n",
       "      <td>97051427</td>\n",
       "      <td>6</td>\n",
       "      <td>71</td>\n",
       "      <td>138</td>\n",
       "      <td>0</td>\n",
       "      <td>1</td>\n",
       "      <td>0</td>\n",
       "    </tr>\n",
       "    <tr>\n",
       "      <th>6691</th>\n",
       "      <td>A</td>\n",
       "      <td>98051971</td>\n",
       "      <td>8</td>\n",
       "      <td>6</td>\n",
       "      <td>126</td>\n",
       "      <td>0</td>\n",
       "      <td>1</td>\n",
       "      <td>0</td>\n",
       "    </tr>\n",
       "  </tbody>\n",
       "</table>\n",
       "<p>39877 rows × 8 columns</p>\n",
       "</div>"
      ],
      "text/plain": [
       "     酪農場代號      乳牛編號  胎次  泌乳天數   月齡  配種次數  summer  winter\n",
       "0        A     52612   1    78   26     1       1       1\n",
       "1        A     52612   1   107   27     1       1       1\n",
       "2        A     52612   1   140   28     2       1       1\n",
       "3        A     52612   1   175   29     2       0       1\n",
       "4        A     52612   1   210   30     2       0       1\n",
       "...    ...       ...  ..   ...  ...   ...     ...     ...\n",
       "6687     C  99183193   8    44  113     0       1       1\n",
       "6688     C  99183209   6   323  111     4       1       1\n",
       "6689     A  98051981   4   189  122     1       1       0\n",
       "6690     A  97051427   6    71  138     0       1       0\n",
       "6691     A  98051971   8     6  126     0       1       0\n",
       "\n",
       "[39877 rows x 8 columns]"
      ]
     },
     "execution_count": 17,
     "metadata": {},
     "output_type": "execute_result"
    }
   ],
   "source": [
    "dfenc = pd.DataFrame\n",
    "dfenc = pd.concat([RawX, Test1], axis=0)\n",
    "dfenc"
   ]
  },
  {
   "cell_type": "code",
   "execution_count": 18,
   "metadata": {
    "colab": {},
    "colab_type": "code",
    "id": "kKLei8q-5bph"
   },
   "outputs": [],
   "source": [
    "#Use OneHotEncoder\n",
    "from sklearn.preprocessing import OneHotEncoder\n",
    "enc = OneHotEncoder(handle_unknown='ignore')"
   ]
  },
  {
   "cell_type": "code",
   "execution_count": 19,
   "metadata": {
    "colab": {
     "base_uri": "https://localhost:8080/",
     "height": 68
    },
    "colab_type": "code",
    "id": "maizd8SW-Ofs",
    "outputId": "c5811fa8-6059-4de9-f1b5-b57ef3e5de52"
   },
   "outputs": [
    {
     "data": {
      "text/plain": [
       "OneHotEncoder(categorical_features=None, categories=None, drop=None,\n",
       "              dtype=<class 'numpy.float64'>, handle_unknown='ignore',\n",
       "              n_values=None, sparse=True)"
      ]
     },
     "execution_count": 19,
     "metadata": {},
     "output_type": "execute_result"
    }
   ],
   "source": [
    "#df_train.fillna(0)\n",
    "enc.fit(dfenc)"
   ]
  },
  {
   "cell_type": "code",
   "execution_count": 20,
   "metadata": {
    "colab": {},
    "colab_type": "code",
    "id": "mOo7iblt5bpj"
   },
   "outputs": [],
   "source": [
    "#Build encoder\n",
    "#RawX.fillna(0,inplace=True)\n",
    "#enc.fit(RawX)\n",
    "enc.transform(RawX)\n",
    "enc.categorical_features"
   ]
  },
  {
   "cell_type": "code",
   "execution_count": 21,
   "metadata": {
    "colab": {
     "base_uri": "https://localhost:8080/",
     "height": 34
    },
    "colab_type": "code",
    "id": "pgT7dTs_5bpl",
    "outputId": "27c57216-4e66-400e-c6f2-4546a12248ea"
   },
   "outputs": [
    {
     "data": {
      "text/plain": [
       "(33185, 3116)"
      ]
     },
     "execution_count": 21,
     "metadata": {},
     "output_type": "execute_result"
    }
   ],
   "source": [
    "#Transform data into one hot vector\n",
    "X = enc.transform(RawX).toarray()\n",
    "X.shape"
   ]
  },
  {
   "cell_type": "code",
   "execution_count": 22,
   "metadata": {
    "colab": {
     "base_uri": "https://localhost:8080/",
     "height": 68
    },
    "colab_type": "code",
    "id": "AmP-cgbh5bpn",
    "outputId": "76584727-4522-4ccd-f346-062a511fbc53"
   },
   "outputs": [
    {
     "data": {
      "text/plain": [
       "array([[1., 0., 0., ..., 1., 0., 1.],\n",
       "       [1., 0., 0., ..., 1., 0., 1.],\n",
       "       [1., 0., 0., ..., 1., 0., 1.]])"
      ]
     },
     "execution_count": 22,
     "metadata": {},
     "output_type": "execute_result"
    }
   ],
   "source": [
    "#See the cooked input data\n",
    "X[0:3, :]"
   ]
  },
  {
   "cell_type": "code",
   "execution_count": 23,
   "metadata": {
    "colab": {
     "base_uri": "https://localhost:8080/",
     "height": 34
    },
    "colab_type": "code",
    "id": "QYhtRprH5bpp",
    "outputId": "4632ba6c-7b83-4195-a488-1d07284613f6"
   },
   "outputs": [
    {
     "data": {
      "text/plain": [
       "(33185,)"
      ]
     },
     "execution_count": 23,
     "metadata": {},
     "output_type": "execute_result"
    }
   ],
   "source": [
    "#Resize y into (0,1)\n",
    "y = df_train[\"乳量\"].values/51\n",
    "y.shape"
   ]
  },
  {
   "cell_type": "code",
   "execution_count": 24,
   "metadata": {
    "colab": {
     "base_uri": "https://localhost:8080/",
     "height": 134
    },
    "colab_type": "code",
    "id": "dxoXxDbu5bpq",
    "outputId": "be127643-aadb-44d1-83c4-621c48198be7"
   },
   "outputs": [
    {
     "name": "stdout",
     "output_type": "stream",
     "text": [
      "WARNING:tensorflow:From C:\\Users\\Lihen\\.conda\\envs\\tensorflow\\lib\\site-packages\\tensorflow\\python\\compat\\v2_compat.py:61: disable_resource_variables (from tensorflow.python.ops.variable_scope) is deprecated and will be removed in a future version.\n",
      "Instructions for updating:\n",
      "non-resource variables are not supported in the long term\n"
     ]
    }
   ],
   "source": [
    "import tensorflow.compat.v1 as tf\n",
    "tf.disable_v2_behavior()\n",
    "from tensorflow import keras\n",
    "from tensorflow.keras.models import Sequential\n",
    "from tensorflow.keras.layers import Input, Dense, Activation, Dropout"
   ]
  },
  {
   "cell_type": "code",
   "execution_count": 25,
   "metadata": {
    "colab": {
     "base_uri": "https://localhost:8080/",
     "height": 88
    },
    "colab_type": "code",
    "id": "H2hi7ddx5bps",
    "outputId": "4611be43-fca6-4639-a6d5-8e909cd3da55"
   },
   "outputs": [
    {
     "name": "stdout",
     "output_type": "stream",
     "text": [
      "WARNING:tensorflow:From C:\\Users\\Lihen\\.conda\\envs\\tensorflow\\lib\\site-packages\\tensorflow\\python\\ops\\init_ops.py:1251: calling VarianceScaling.__init__ (from tensorflow.python.ops.init_ops) with dtype is deprecated and will be removed in a future version.\n",
      "Instructions for updating:\n",
      "Call initializer instance with the dtype argument instead of passing it to the constructor\n"
     ]
    }
   ],
   "source": [
    "# create and fit a Baseline Neural Network Model\n",
    "model = Sequential()\n",
    "model.add(Dense(19456, activation='relu', input_dim=3116))\n",
    "model.add(Dense(units=10240, activation='softmax'))\n",
    "model.add(Dropout(0.5))\n",
    "model.add(Dense(1))"
   ]
  },
  {
   "cell_type": "code",
   "execution_count": 26,
   "metadata": {
    "colab": {
     "base_uri": "https://localhost:8080/",
     "height": 748
    },
    "colab_type": "code",
    "id": "GGgEpY785bpu",
    "outputId": "f90fd779-31f2-4906-a91c-54ade1050bf3"
   },
   "outputs": [
    {
     "name": "stdout",
     "output_type": "stream",
     "text": [
      "Epoch 1/300\n"
     ]
    },
    {
     "ename": "ResourceExhaustedError",
     "evalue": "2 root error(s) found.\n  (0) Resource exhausted: OOM when allocating tensor with shape[4096,10240] and type float on /job:localhost/replica:0/task:0/device:GPU:0 by allocator GPU_0_bfc\n\t [[{{node dropout/cond/dropout/Cast}}]]\nHint: If you want to see a list of allocated tensors when OOM happens, add report_tensor_allocations_upon_oom to RunOptions for current allocation info.\n\n\t [[loss/mul/_65]]\nHint: If you want to see a list of allocated tensors when OOM happens, add report_tensor_allocations_upon_oom to RunOptions for current allocation info.\n\n  (1) Resource exhausted: OOM when allocating tensor with shape[4096,10240] and type float on /job:localhost/replica:0/task:0/device:GPU:0 by allocator GPU_0_bfc\n\t [[{{node dropout/cond/dropout/Cast}}]]\nHint: If you want to see a list of allocated tensors when OOM happens, add report_tensor_allocations_upon_oom to RunOptions for current allocation info.\n\n0 successful operations.\n0 derived errors ignored.",
     "output_type": "error",
     "traceback": [
      "\u001b[1;31m---------------------------------------------------------------------------\u001b[0m",
      "\u001b[1;31mResourceExhaustedError\u001b[0m                    Traceback (most recent call last)",
      "\u001b[1;32m<ipython-input-26-eb4654f6a646>\u001b[0m in \u001b[0;36m<module>\u001b[1;34m\u001b[0m\n\u001b[0;32m      1\u001b[0m \u001b[0mmodel\u001b[0m\u001b[1;33m.\u001b[0m\u001b[0mcompile\u001b[0m\u001b[1;33m(\u001b[0m\u001b[0mloss\u001b[0m\u001b[1;33m=\u001b[0m\u001b[1;34m'mse'\u001b[0m\u001b[1;33m,\u001b[0m \u001b[0moptimizer\u001b[0m\u001b[1;33m=\u001b[0m\u001b[1;34m'adam'\u001b[0m\u001b[1;33m)\u001b[0m\u001b[1;33m\u001b[0m\u001b[1;33m\u001b[0m\u001b[0m\n\u001b[1;32m----> 2\u001b[1;33m \u001b[0mmodel\u001b[0m\u001b[1;33m.\u001b[0m\u001b[0mfit\u001b[0m\u001b[1;33m(\u001b[0m\u001b[0mX\u001b[0m\u001b[1;33m,\u001b[0m \u001b[0my\u001b[0m\u001b[1;33m,\u001b[0m \u001b[0mepochs\u001b[0m\u001b[1;33m=\u001b[0m\u001b[1;36m300\u001b[0m\u001b[1;33m,\u001b[0m \u001b[0mbatch_size\u001b[0m\u001b[1;33m=\u001b[0m\u001b[1;36m4096\u001b[0m\u001b[1;33m,\u001b[0m \u001b[0mverbose\u001b[0m\u001b[1;33m=\u001b[0m\u001b[1;36m1\u001b[0m\u001b[1;33m)\u001b[0m\u001b[1;33m\u001b[0m\u001b[1;33m\u001b[0m\u001b[0m\n\u001b[0m",
      "\u001b[1;32m~\\.conda\\envs\\tensorflow\\lib\\site-packages\\tensorflow\\python\\keras\\engine\\training.py\u001b[0m in \u001b[0;36mfit\u001b[1;34m(self, x, y, batch_size, epochs, verbose, callbacks, validation_split, validation_data, shuffle, class_weight, sample_weight, initial_epoch, steps_per_epoch, validation_steps, validation_freq, max_queue_size, workers, use_multiprocessing, **kwargs)\u001b[0m\n\u001b[0;32m    778\u001b[0m           \u001b[0mvalidation_steps\u001b[0m\u001b[1;33m=\u001b[0m\u001b[0mvalidation_steps\u001b[0m\u001b[1;33m,\u001b[0m\u001b[1;33m\u001b[0m\u001b[1;33m\u001b[0m\u001b[0m\n\u001b[0;32m    779\u001b[0m           \u001b[0mvalidation_freq\u001b[0m\u001b[1;33m=\u001b[0m\u001b[0mvalidation_freq\u001b[0m\u001b[1;33m,\u001b[0m\u001b[1;33m\u001b[0m\u001b[1;33m\u001b[0m\u001b[0m\n\u001b[1;32m--> 780\u001b[1;33m           steps_name='steps_per_epoch')\n\u001b[0m\u001b[0;32m    781\u001b[0m \u001b[1;33m\u001b[0m\u001b[0m\n\u001b[0;32m    782\u001b[0m   def evaluate(self,\n",
      "\u001b[1;32m~\\.conda\\envs\\tensorflow\\lib\\site-packages\\tensorflow\\python\\keras\\engine\\training_arrays.py\u001b[0m in \u001b[0;36mmodel_iteration\u001b[1;34m(model, inputs, targets, sample_weights, batch_size, epochs, verbose, callbacks, val_inputs, val_targets, val_sample_weights, shuffle, initial_epoch, steps_per_epoch, validation_steps, validation_freq, mode, validation_in_fit, prepared_feed_values_from_dataset, steps_name, **kwargs)\u001b[0m\n\u001b[0;32m    361\u001b[0m \u001b[1;33m\u001b[0m\u001b[0m\n\u001b[0;32m    362\u001b[0m         \u001b[1;31m# Get outputs.\u001b[0m\u001b[1;33m\u001b[0m\u001b[1;33m\u001b[0m\u001b[1;33m\u001b[0m\u001b[0m\n\u001b[1;32m--> 363\u001b[1;33m         \u001b[0mbatch_outs\u001b[0m \u001b[1;33m=\u001b[0m \u001b[0mf\u001b[0m\u001b[1;33m(\u001b[0m\u001b[0mins_batch\u001b[0m\u001b[1;33m)\u001b[0m\u001b[1;33m\u001b[0m\u001b[1;33m\u001b[0m\u001b[0m\n\u001b[0m\u001b[0;32m    364\u001b[0m         \u001b[1;32mif\u001b[0m \u001b[1;32mnot\u001b[0m \u001b[0misinstance\u001b[0m\u001b[1;33m(\u001b[0m\u001b[0mbatch_outs\u001b[0m\u001b[1;33m,\u001b[0m \u001b[0mlist\u001b[0m\u001b[1;33m)\u001b[0m\u001b[1;33m:\u001b[0m\u001b[1;33m\u001b[0m\u001b[1;33m\u001b[0m\u001b[0m\n\u001b[0;32m    365\u001b[0m           \u001b[0mbatch_outs\u001b[0m \u001b[1;33m=\u001b[0m \u001b[1;33m[\u001b[0m\u001b[0mbatch_outs\u001b[0m\u001b[1;33m]\u001b[0m\u001b[1;33m\u001b[0m\u001b[1;33m\u001b[0m\u001b[0m\n",
      "\u001b[1;32m~\\.conda\\envs\\tensorflow\\lib\\site-packages\\tensorflow\\python\\keras\\backend.py\u001b[0m in \u001b[0;36m__call__\u001b[1;34m(self, inputs)\u001b[0m\n\u001b[0;32m   3290\u001b[0m \u001b[1;33m\u001b[0m\u001b[0m\n\u001b[0;32m   3291\u001b[0m     fetched = self._callable_fn(*array_vals,\n\u001b[1;32m-> 3292\u001b[1;33m                                 run_metadata=self.run_metadata)\n\u001b[0m\u001b[0;32m   3293\u001b[0m     \u001b[0mself\u001b[0m\u001b[1;33m.\u001b[0m\u001b[0m_call_fetch_callbacks\u001b[0m\u001b[1;33m(\u001b[0m\u001b[0mfetched\u001b[0m\u001b[1;33m[\u001b[0m\u001b[1;33m-\u001b[0m\u001b[0mlen\u001b[0m\u001b[1;33m(\u001b[0m\u001b[0mself\u001b[0m\u001b[1;33m.\u001b[0m\u001b[0m_fetches\u001b[0m\u001b[1;33m)\u001b[0m\u001b[1;33m:\u001b[0m\u001b[1;33m]\u001b[0m\u001b[1;33m)\u001b[0m\u001b[1;33m\u001b[0m\u001b[1;33m\u001b[0m\u001b[0m\n\u001b[0;32m   3294\u001b[0m     output_structure = nest.pack_sequence_as(\n",
      "\u001b[1;32m~\\.conda\\envs\\tensorflow\\lib\\site-packages\\tensorflow\\python\\client\\session.py\u001b[0m in \u001b[0;36m__call__\u001b[1;34m(self, *args, **kwargs)\u001b[0m\n\u001b[0;32m   1456\u001b[0m         ret = tf_session.TF_SessionRunCallable(self._session._session,\n\u001b[0;32m   1457\u001b[0m                                                \u001b[0mself\u001b[0m\u001b[1;33m.\u001b[0m\u001b[0m_handle\u001b[0m\u001b[1;33m,\u001b[0m \u001b[0margs\u001b[0m\u001b[1;33m,\u001b[0m\u001b[1;33m\u001b[0m\u001b[1;33m\u001b[0m\u001b[0m\n\u001b[1;32m-> 1458\u001b[1;33m                                                run_metadata_ptr)\n\u001b[0m\u001b[0;32m   1459\u001b[0m         \u001b[1;32mif\u001b[0m \u001b[0mrun_metadata\u001b[0m\u001b[1;33m:\u001b[0m\u001b[1;33m\u001b[0m\u001b[1;33m\u001b[0m\u001b[0m\n\u001b[0;32m   1460\u001b[0m           \u001b[0mproto_data\u001b[0m \u001b[1;33m=\u001b[0m \u001b[0mtf_session\u001b[0m\u001b[1;33m.\u001b[0m\u001b[0mTF_GetBuffer\u001b[0m\u001b[1;33m(\u001b[0m\u001b[0mrun_metadata_ptr\u001b[0m\u001b[1;33m)\u001b[0m\u001b[1;33m\u001b[0m\u001b[1;33m\u001b[0m\u001b[0m\n",
      "\u001b[1;31mResourceExhaustedError\u001b[0m: 2 root error(s) found.\n  (0) Resource exhausted: OOM when allocating tensor with shape[4096,10240] and type float on /job:localhost/replica:0/task:0/device:GPU:0 by allocator GPU_0_bfc\n\t [[{{node dropout/cond/dropout/Cast}}]]\nHint: If you want to see a list of allocated tensors when OOM happens, add report_tensor_allocations_upon_oom to RunOptions for current allocation info.\n\n\t [[loss/mul/_65]]\nHint: If you want to see a list of allocated tensors when OOM happens, add report_tensor_allocations_upon_oom to RunOptions for current allocation info.\n\n  (1) Resource exhausted: OOM when allocating tensor with shape[4096,10240] and type float on /job:localhost/replica:0/task:0/device:GPU:0 by allocator GPU_0_bfc\n\t [[{{node dropout/cond/dropout/Cast}}]]\nHint: If you want to see a list of allocated tensors when OOM happens, add report_tensor_allocations_upon_oom to RunOptions for current allocation info.\n\n0 successful operations.\n0 derived errors ignored."
     ]
    }
   ],
   "source": [
    "model.compile(loss='mse', optimizer='adam')\n",
    "model.fit(X, y, epochs=300, batch_size=4096, verbose=1)"
   ]
  },
  {
   "cell_type": "code",
   "execution_count": 0,
   "metadata": {
    "colab": {
     "base_uri": "https://localhost:8080/",
     "height": 34
    },
    "colab_type": "code",
    "id": "1C9v31JI5bpv",
    "outputId": "492714cd-1933-4a7c-af9e-fae14bcfdd5a"
   },
   "outputs": [
    {
     "data": {
      "text/plain": [
       "(6692, 21)"
      ]
     },
     "execution_count": 95,
     "metadata": {
      "tags": []
     },
     "output_type": "execute_result"
    }
   ],
   "source": [
    "df_test = pd.read_csv('test_milk.csv')\n",
    "df_test.shape"
   ]
  },
  {
   "cell_type": "code",
   "execution_count": 0,
   "metadata": {
    "colab": {},
    "colab_type": "code",
    "id": "7OBdRu9x5bpx"
   },
   "outputs": [],
   "source": [
    "#Declare weekday & workday\"資料月份\",\"酪農場代號\",\n",
    "summer1 = np.ones((len(df_test),), dtype=int)\n",
    "winter1 = np.ones((len(df_test),), dtype=int)\n",
    "dfoursix1 = np.ones((len(df_test),), dtype=int)"
   ]
  },
  {
   "cell_type": "code",
   "execution_count": 0,
   "metadata": {
    "colab": {},
    "colab_type": "code",
    "id": "Hj28tVBK5bpz"
   },
   "outputs": [],
   "source": [
    "#for index, row in df_test.iterrows():\n",
    "  \"\"\"\n",
    "  dd1=datetime.strptime(row['12'], \"%Y/%m/%d\")\n",
    "  dd2=datetime.strptime(row['13'], \"%Y/%m/%d\")\n",
    "  ddcount = str(dd2-dd1)\n",
    "  ddcount = re.findall(r\"\\d+\\.?\\d*\",ddcount)\n",
    "  ddcount = int(ddcount[0])\n",
    "  \"\"\"\n",
    "for index, row in df_test.iterrows():\n",
    "    if row['資料月份']>=6 and row['資料月份'] <= 9:\n",
    "      summer1[index] = 0\n",
    "    elif row['資料月份']>=11 and row['資料月份'] <= 12 or row['資料月份'] == 1:\n",
    "      winter1[index] = 0\n",
    "for index, row in df_test.iterrows():\n",
    "    if row['胎次']==1:\n",
    "      if row['泌乳天數']==46:\n",
    "        dfoursix1[index] = 0"
   ]
  },
  {
   "cell_type": "code",
   "execution_count": 0,
   "metadata": {
    "colab": {
     "base_uri": "https://localhost:8080/",
     "height": 419
    },
    "colab_type": "code",
    "id": "ULPlSRR85bp2",
    "outputId": "e89082ce-8132-4d84-c359-c7dc61105c29"
   },
   "outputs": [
    {
     "data": {
      "text/html": [
       "<div>\n",
       "<style scoped>\n",
       "    .dataframe tbody tr th:only-of-type {\n",
       "        vertical-align: middle;\n",
       "    }\n",
       "\n",
       "    .dataframe tbody tr th {\n",
       "        vertical-align: top;\n",
       "    }\n",
       "\n",
       "    .dataframe thead th {\n",
       "        text-align: right;\n",
       "    }\n",
       "</style>\n",
       "<table border=\"1\" class=\"dataframe\">\n",
       "  <thead>\n",
       "    <tr style=\"text-align: right;\">\n",
       "      <th></th>\n",
       "      <th>酪農場代號</th>\n",
       "      <th>乳牛編號</th>\n",
       "      <th>胎次</th>\n",
       "      <th>泌乳天數</th>\n",
       "      <th>月齡</th>\n",
       "      <th>配種次數</th>\n",
       "    </tr>\n",
       "  </thead>\n",
       "  <tbody>\n",
       "    <tr>\n",
       "      <th>0</th>\n",
       "      <td>A</td>\n",
       "      <td>52631</td>\n",
       "      <td>4</td>\n",
       "      <td>435</td>\n",
       "      <td>94</td>\n",
       "      <td>6</td>\n",
       "    </tr>\n",
       "    <tr>\n",
       "      <th>1</th>\n",
       "      <td>A</td>\n",
       "      <td>52640</td>\n",
       "      <td>4</td>\n",
       "      <td>13</td>\n",
       "      <td>94</td>\n",
       "      <td>0</td>\n",
       "    </tr>\n",
       "    <tr>\n",
       "      <th>2</th>\n",
       "      <td>A</td>\n",
       "      <td>52640</td>\n",
       "      <td>4</td>\n",
       "      <td>35</td>\n",
       "      <td>95</td>\n",
       "      <td>1</td>\n",
       "    </tr>\n",
       "    <tr>\n",
       "      <th>3</th>\n",
       "      <td>A</td>\n",
       "      <td>52640</td>\n",
       "      <td>4</td>\n",
       "      <td>70</td>\n",
       "      <td>96</td>\n",
       "      <td>1</td>\n",
       "    </tr>\n",
       "    <tr>\n",
       "      <th>4</th>\n",
       "      <td>A</td>\n",
       "      <td>52640</td>\n",
       "      <td>4</td>\n",
       "      <td>98</td>\n",
       "      <td>97</td>\n",
       "      <td>1</td>\n",
       "    </tr>\n",
       "    <tr>\n",
       "      <th>...</th>\n",
       "      <td>...</td>\n",
       "      <td>...</td>\n",
       "      <td>...</td>\n",
       "      <td>...</td>\n",
       "      <td>...</td>\n",
       "      <td>...</td>\n",
       "    </tr>\n",
       "    <tr>\n",
       "      <th>6687</th>\n",
       "      <td>C</td>\n",
       "      <td>99183193</td>\n",
       "      <td>8</td>\n",
       "      <td>44</td>\n",
       "      <td>113</td>\n",
       "      <td>0</td>\n",
       "    </tr>\n",
       "    <tr>\n",
       "      <th>6688</th>\n",
       "      <td>C</td>\n",
       "      <td>99183209</td>\n",
       "      <td>6</td>\n",
       "      <td>323</td>\n",
       "      <td>111</td>\n",
       "      <td>4</td>\n",
       "    </tr>\n",
       "    <tr>\n",
       "      <th>6689</th>\n",
       "      <td>A</td>\n",
       "      <td>98051981</td>\n",
       "      <td>4</td>\n",
       "      <td>189</td>\n",
       "      <td>122</td>\n",
       "      <td>1</td>\n",
       "    </tr>\n",
       "    <tr>\n",
       "      <th>6690</th>\n",
       "      <td>A</td>\n",
       "      <td>97051427</td>\n",
       "      <td>6</td>\n",
       "      <td>71</td>\n",
       "      <td>138</td>\n",
       "      <td>0</td>\n",
       "    </tr>\n",
       "    <tr>\n",
       "      <th>6691</th>\n",
       "      <td>A</td>\n",
       "      <td>98051971</td>\n",
       "      <td>8</td>\n",
       "      <td>6</td>\n",
       "      <td>126</td>\n",
       "      <td>0</td>\n",
       "    </tr>\n",
       "  </tbody>\n",
       "</table>\n",
       "<p>6692 rows × 6 columns</p>\n",
       "</div>"
      ],
      "text/plain": [
       "     酪農場代號      乳牛編號  胎次  泌乳天數   月齡  配種次數\n",
       "0        A     52631   4   435   94     6\n",
       "1        A     52640   4    13   94     0\n",
       "2        A     52640   4    35   95     1\n",
       "3        A     52640   4    70   96     1\n",
       "4        A     52640   4    98   97     1\n",
       "...    ...       ...  ..   ...  ...   ...\n",
       "6687     C  99183193   8    44  113     0\n",
       "6688     C  99183209   6   323  111     4\n",
       "6689     A  98051981   4   189  122     1\n",
       "6690     A  97051427   6    71  138     0\n",
       "6691     A  98051971   8     6  126     0\n",
       "\n",
       "[6692 rows x 6 columns]"
      ]
     },
     "execution_count": 164,
     "metadata": {
      "tags": []
     },
     "output_type": "execute_result"
    }
   ],
   "source": [
    "Test = pd.DataFrame(df_test[[\"酪農場代號\",\"乳牛編號\",\"胎次\",\"泌乳天數\",\"月齡\",\"配種次數\"]])\n",
    "#Test['summer1'] = summer1\n",
    "#Test['winter1'] = winter1\n",
    "#Test['d461'] = dfoursix1\n",
    "Test"
   ]
  },
  {
   "cell_type": "code",
   "execution_count": 0,
   "metadata": {
    "colab": {},
    "colab_type": "code",
    "id": "JMAGxpIv5bp4"
   },
   "outputs": [],
   "source": [
    "Xtest = enc.transform(Test).toarray()\n",
    "Xtest.shape"
   ]
  },
  {
   "cell_type": "code",
   "execution_count": 0,
   "metadata": {
    "colab": {},
    "colab_type": "code",
    "id": "XaZMMqYN5bp7"
   },
   "outputs": [],
   "source": [
    "yt = model.predict(Xtest)*51"
   ]
  },
  {
   "cell_type": "code",
   "execution_count": 0,
   "metadata": {
    "colab": {},
    "colab_type": "code",
    "id": "h0oPfwM95bqA"
   },
   "outputs": [],
   "source": [
    "plt.plot(yt)"
   ]
  },
  {
   "cell_type": "code",
   "execution_count": 0,
   "metadata": {
    "colab": {},
    "colab_type": "code",
    "id": "vehgjauG5bqB"
   },
   "outputs": [],
   "source": [
    "df_result = pd.read_csv('submission.csv')\n",
    "df_result['1'] = pd.DataFrame(yt)"
   ]
  },
  {
   "cell_type": "code",
   "execution_count": 0,
   "metadata": {
    "colab": {},
    "colab_type": "code",
    "id": "thXXPy885bqD"
   },
   "outputs": [],
   "source": [
    "df_result.to_csv('submission.csv',index = False)"
   ]
  }
 ],
 "metadata": {
  "accelerator": "GPU",
  "colab": {
   "collapsed_sections": [],
   "machine_shape": "hm",
   "name": "milk_prediction.ipynb",
   "provenance": []
  },
  "kernelspec": {
   "display_name": "Python 3",
   "language": "python",
   "name": "python3"
  },
  "language_info": {
   "codemirror_mode": {
    "name": "ipython",
    "version": 3
   },
   "file_extension": ".py",
   "mimetype": "text/x-python",
   "name": "python",
   "nbconvert_exporter": "python",
   "pygments_lexer": "ipython3",
   "version": "3.6.10"
  }
 },
 "nbformat": 4,
 "nbformat_minor": 1
}
